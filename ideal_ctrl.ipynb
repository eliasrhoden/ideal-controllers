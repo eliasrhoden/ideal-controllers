{
 "cells": [
  {
   "cell_type": "markdown",
   "metadata": {},
   "source": [
    "# Ideal controllers from model inverse"
   ]
  },
  {
   "cell_type": "code",
   "execution_count": 143,
   "metadata": {},
   "outputs": [],
   "source": [
    "import control as ctrl \n",
    "import numpy as np\n",
    "import matplotlib.pyplot as plt\n",
    "s = ctrl.tf([1,0],[0,1])"
   ]
  },
  {
   "cell_type": "markdown",
   "metadata": {},
   "source": [
    "## Controller from model inverse\n",
    "\n",
    "Goal, closed loop should be equal to reference model $M(s)$\n",
    "\n",
    "Same method used for IMC-controller design (Internal Model Control).\n",
    "\n",
    "$$\n",
    "\\dfrac{C(s)G(s)}{1+C(s)G(s)} = M(s)\n",
    "$$\n",
    "\n",
    "$$\n",
    "C(s)G(s) = M(s)(1+C(s)G(s))\n",
    "$$\n",
    "\n",
    "\n",
    "$$\n",
    "C(s)(G(s)-M(s)G(s)) = M(s)\n",
    "$$\n",
    "\n",
    "$$\n",
    "C(s) = \\dfrac{M(s)}{1 - M(s)}G^{-1}(s)\n",
    "$$\n"
   ]
  },
  {
   "cell_type": "markdown",
   "metadata": {},
   "source": [
    "# PT1 system\n",
    "Plant\n",
    "$$\n",
    "G(s) = \\dfrac{K_g}{s\\tau + 1}\n",
    "$$\n",
    "Ref model, $\\lambda$ is the tuning constant.\n",
    "$$\n",
    "M(s) = \\dfrac{1}{s\\lambda + 1}\n",
    "$$\n",
    "Ideal controller\n",
    "$$\n",
    "C(s) = \\dfrac{\\dfrac{1}{(s\\lambda + 1)}}{(1-\\dfrac{1}{s\\lambda + 1})}\\dfrac{(s\\tau + 1)}{K_g} = \\dfrac{s\\tau + 1}{s\\lambda K_g} \n",
    "$$\n",
    "Which is a standard PI-controller\n",
    "\n",
    "$$\n",
    "C_{PI}(s) = K_p(1 + \\frac{1}{T_is}) = \\frac{K_p s + \\frac{K_p}{T_i}}{s}\n",
    "$$\n",
    "\n",
    "$$\n",
    "K_p = \\frac{\\tau}{\\lambda K_g}\n",
    "$$\n",
    "\n",
    "$$\n",
    "T_i = K_p\\lambda K_g\n",
    "$$\n",
    "\n"
   ]
  },
  {
   "cell_type": "code",
   "execution_count": 144,
   "metadata": {},
   "outputs": [
    {
     "name": "stdout",
     "output_type": "stream",
     "text": [
      "1 states have been removed from the model\n"
     ]
    },
    {
     "data": {
      "text/latex": [
       "$$\\frac{2 s + 10}{s}$$"
      ],
      "text/plain": [
       "TransferFunction(array([ 2., 10.]), array([1., 0.]))"
      ]
     },
     "execution_count": 144,
     "metadata": {},
     "output_type": "execute_result"
    }
   ],
   "source": [
    "# Plant\n",
    "tau = 0.2\n",
    "Kg = 10\n",
    "\n",
    "G1 = Kg/(s*tau + 1)\n",
    "\n",
    "# Ref model and controller\n",
    "lam = 0.01\n",
    "M1 = 1/(s*lam + 1)\n",
    "\n",
    "C1 = 1/G1 * M1/(1-M1)\n",
    "C1 = ctrl.minreal(C1)\n",
    "C1"
   ]
  },
  {
   "cell_type": "code",
   "execution_count": 145,
   "metadata": {},
   "outputs": [
    {
     "name": "stdout",
     "output_type": "stream",
     "text": [
      "0 states have been removed from the model\n"
     ]
    },
    {
     "data": {
      "text/latex": [
       "$$\\frac{2 s + 10}{s}$$"
      ],
      "text/plain": [
       "TransferFunction(array([ 2., 10.]), array([1., 0.]))"
      ]
     },
     "execution_count": 145,
     "metadata": {},
     "output_type": "execute_result"
    }
   ],
   "source": [
    "# Use gain formulas, shuld produce the same result\n",
    "\n",
    "Kp = tau/(lam*Kg) \n",
    "Ti = Kp*lam*Kg\n",
    "\n",
    "C12 = Kp*(1 + 1/(s*Ti))\n",
    "C12 = ctrl.minreal(C12)\n",
    "C12"
   ]
  },
  {
   "cell_type": "code",
   "execution_count": 146,
   "metadata": {},
   "outputs": [
    {
     "data": {
      "image/png": "[encoded data removed]",
      "text/plain": [
       "<Figure size 432x288 with 2 Axes>"
      ]
     },
     "metadata": {
      "needs_background": "light"
     },
     "output_type": "display_data"
    }
   ],
   "source": [
    "# Verify close loop\n",
    "L1 = G1*C1\n",
    "\n",
    "CL1 = L1/(L1+1)\n",
    "#ctrl.bode(L1/(1+L1))\n",
    "ctrl.bode(CL1,omega_limits =(1,5000),label='Closed loop',linewidth=8)\n",
    "ctrl.bode(M1,omega_limits =(1,5000),linestyle='--',color='k',label='Ref model')\n",
    "plt.legend()\n",
    "plt.show()"
   ]
  },
  {
   "cell_type": "code",
   "execution_count": 147,
   "metadata": {},
   "outputs": [
    {
     "name": "stdout",
     "output_type": "stream",
     "text": [
      "3 states have been removed from the model\n"
     ]
    },
    {
     "data": {
      "text/latex": [
       "$$\\frac{100}{s + 100}$$"
      ],
      "text/plain": [
       "TransferFunction(array([100.]), array([  1., 100.]))"
      ]
     },
     "execution_count": 147,
     "metadata": {},
     "output_type": "execute_result"
    }
   ],
   "source": [
    "ctrl.minreal(CL1)"
   ]
  },
  {
   "cell_type": "code",
   "execution_count": 148,
   "metadata": {},
   "outputs": [
    {
     "name": "stdout",
     "output_type": "stream",
     "text": [
      "0 states have been removed from the model\n"
     ]
    },
    {
     "data": {
      "text/latex": [
       "$$\\frac{100}{s + 100}$$"
      ],
      "text/plain": [
       "TransferFunction(array([100.]), array([  1., 100.]))"
      ]
     },
     "execution_count": 148,
     "metadata": {},
     "output_type": "execute_result"
    }
   ],
   "source": [
    "ctrl.minreal(M1)"
   ]
  },
  {
   "cell_type": "markdown",
   "metadata": {},
   "source": [
    "# PT2 systems"
   ]
  },
  {
   "attachments": {},
   "cell_type": "markdown",
   "metadata": {},
   "source": [
    "Plant\n",
    "$$\n",
    "G(s) = \\dfrac{K_g}{\\frac{s^2}{\\omega_c^2} + \\frac{2s\\delta}{\\omega_c} + 1}\n",
    "$$\n",
    "Ref model, $\\lambda$ is the tuning constant.\n",
    "$$\n",
    "M(s) = \\dfrac{1}{\\frac{s^2}{\\lambda^2} + \\frac{2s}{\\lambda} + 1}\n",
    "$$\n",
    "Ideal controller\n",
    "$$\n",
    "C(s) = \\dfrac{(\\frac{s^2}{\\omega_c^2} + \\frac{2s\\delta}{\\omega_c} + 1)}{K_g} \\dfrac{\\frac{s^2}{\\lambda^2} + \\frac{2s}{\\lambda} + 1}{\\frac{s^2}{\\lambda^2} + \\frac{2s}{\\lambda}}\n",
    "= \n",
    "\\dfrac{(\\frac{s^2}{\\omega_c^2} + \\frac{2s\\delta}{\\omega_c} + 1)}{K_g(\\frac{s^2}{\\lambda^2} + \\frac{2s}{\\lambda})} = \n",
    "\\dfrac{(\\frac{\\lambda s^2}{2\\omega_c^2 K_g} + \\frac{\\lambda s\\delta}{\\omega_c K_g} + \\frac{\\lambda}{2K_g})}{\\frac{s^2}{2\\lambda} + s}\n",
    "$$\n",
    "\n",
    "\n",
    "\n"
   ]
  },
  {
   "cell_type": "code",
   "execution_count": 149,
   "metadata": {},
   "outputs": [
    {
     "data": {
      "text/latex": [
       "$$\\frac{13.37}{0.04 s^2 + 0.12 s + 1}$$"
      ],
      "text/plain": [
       "TransferFunction(array([13.37]), array([0.04, 0.12, 1.  ]))"
      ]
     },
     "execution_count": 149,
     "metadata": {},
     "output_type": "execute_result"
    }
   ],
   "source": [
    "# ref model\n",
    "lam = 10\n",
    "M2 = 1/(s**2/lam**2 + 2*s/lam +1)\n",
    "\n",
    "# Plant\n",
    "\n",
    "wc = 5\n",
    "delta = 0.3\n",
    "Kg = 13.37\n",
    "\n",
    "G = ctrl.tf(Kg,[1/wc**2,2*delta/wc,1])\n",
    "G"
   ]
  },
  {
   "cell_type": "code",
   "execution_count": 150,
   "metadata": {},
   "outputs": [
    {
     "name": "stdout",
     "output_type": "stream",
     "text": [
      "0 states have been removed from the model\n"
     ]
    },
    {
     "data": {
      "text/latex": [
       "$$\\frac{0.2992 s^2 + 0.8975 s + 7.479}{s^2 + 20 s}$$"
      ],
      "text/plain": [
       "TransferFunction(array([0.29917726, 0.89753179, 7.47943156]), array([ 1., 20.,  0.]))"
      ]
     },
     "execution_count": 150,
     "metadata": {},
     "output_type": "execute_result"
    }
   ],
   "source": [
    "Cid = (lam*s**2/(2*wc**2*Kg) + lam*s*delta/(wc*Kg) + lam/(2*Kg))/(s**2/(2*lam) + s)\n",
    "Cid = ctrl.minreal(Cid)\n",
    "Cid\n"
   ]
  },
  {
   "cell_type": "code",
   "execution_count": 151,
   "metadata": {},
   "outputs": [
    {
     "name": "stdout",
     "output_type": "stream",
     "text": [
      "6 states have been removed from the model\n"
     ]
    },
    {
     "data": {
      "image/png": "[encoded data removed]",
      "text/plain": [
       "<Figure size 432x288 with 2 Axes>"
      ]
     },
     "metadata": {
      "needs_background": "light"
     },
     "output_type": "display_data"
    },
    {
     "data": {
      "text/latex": [
       "$$\\frac{100}{s^2 + 20 s + 100}$$"
      ],
      "text/plain": [
       "TransferFunction(array([100.]), array([  1.,  20., 100.]))"
      ]
     },
     "execution_count": 151,
     "metadata": {},
     "output_type": "execute_result"
    }
   ],
   "source": [
    "CL = G*Cid/(1 + G*Cid)\n",
    "CL2 = ctrl.minreal(CL)\n",
    "\n",
    "ctrl.bode(CL2,omega_limits =(1,5000),label='Closed loop',linewidth=8)\n",
    "ctrl.bode(M2,omega_limits =(1,5000),linestyle='--',color='k',label='Ref model')\n",
    "\n",
    "plt.legend()\n",
    "plt.show()\n",
    "CL2"
   ]
  },
  {
   "cell_type": "markdown",
   "metadata": {},
   "source": [
    "$$\n",
    "C(s) \n",
    "= \n",
    "\\dfrac{(\\frac{\\lambda s^2}{2\\omega_c^2 K_g} + \\frac{\\lambda s\\delta}{\\omega_c K_g} + \\frac{\\lambda}{2K_g})}{\\frac{s^2}{2\\lambda} + s}\n",
    "$$"
   ]
  },
  {
   "cell_type": "markdown",
   "metadata": {},
   "source": [
    "Which is a standard PID controller\n",
    "\n",
    "$$\n",
    "C_{PID}(s) = K_p (1 + \\frac{1}{s T_i} +  \\frac{K_ds}{s T_d + 1}) =  \\frac{K_p(s T_d + 1) s + \\frac{K_p}{T_i}(s T_d + 1) +  K_p K_d s^2}{(s T_d + 1) s}\n",
    "$$\n",
    "$$\n",
    "=\\frac{s^2 (K_p T_d + K_p K_d) + s (K_p + \\frac{K_p}{T_i} T_d) + \\frac{K_p}{T_i}}{s^2 T_d + s}\n",
    "$$\n"
   ]
  },
  {
   "attachments": {},
   "cell_type": "markdown",
   "metadata": {},
   "source": [
    "Matching coefficients\n",
    "\n",
    "$$\n",
    "T_d = \\frac{1}{2 \\lambda}\n",
    "$$\n",
    "\n",
    "$$\n",
    "K_p T_d + K_p K_d = \\frac{\\lambda}{2\\omega_c^2 K_g}\n",
    "$$\n",
    "\n",
    "$$\n",
    "K_p + \\frac{K_p}{T_i} T_d = \\frac{\\lambda \\delta}{\\omega_c K_g}\n",
    "$$\n",
    "\n",
    "$$\n",
    "\\frac{K_p}{T_i} = \\frac{\\lambda}{2K_g}\n",
    "$$\n"
   ]
  },
  {
   "cell_type": "markdown",
   "metadata": {},
   "source": [
    "\n",
    "\n",
    "$$\n",
    "K_p + \\frac{K_p}{T_i} T_d = K_p + \\bigg(\\frac{\\lambda}{2K_g} \\bigg) T_d = \\frac{\\lambda \\delta}{\\omega_c K_g} \\Rightarrow\n",
    "K_p = \\dfrac{\\lambda \\delta}{\\omega_c K_g} - \\dfrac{1}{4 K_g}\n",
    "$$\n",
    "\n",
    "$$\n",
    "\\frac{K_p}{T_i} = \\frac{\\lambda}{2K_g} \\Rightarrow T_i = \\dfrac{2 K_p K_g}{\\lambda}\n",
    "$$\n",
    "\n",
    "$$\n",
    "K_d = \\frac{\\lambda}{2\\omega_c^2 K_g} \\Rightarrow K_d = \\frac{\\lambda}{2\\omega_c^2 K_g K_p} - T_d\n",
    "$$\n"
   ]
  },
  {
   "cell_type": "code",
   "execution_count": 152,
   "metadata": {},
   "outputs": [
    {
     "data": {
      "text/latex": [
       "$$\\frac{13.37}{0.04 s^2 + 0.12 s + 1}$$"
      ],
      "text/plain": [
       "TransferFunction(array([13.37]), array([0.04, 0.12, 1.  ]))"
      ]
     },
     "execution_count": 152,
     "metadata": {},
     "output_type": "execute_result"
    }
   ],
   "source": [
    "\n",
    "# ref model\n",
    "lam = 100\n",
    "M2 = 1/(s**2/lam**2 + 2*s/lam +1)\n",
    "\n",
    "# Plant\n",
    "\n",
    "wc = 5\n",
    "delta = 0.3\n",
    "Kg = 13.37\n",
    "\n",
    "G = ctrl.tf(Kg,[1/wc**2,2*delta/wc,1])\n",
    "G"
   ]
  },
  {
   "cell_type": "code",
   "execution_count": 153,
   "metadata": {},
   "outputs": [],
   "source": [
    "# PID gains\n",
    "Td = 1/(2*lam)\n",
    "\n",
    "Kp = lam*delta/(wc*Kg) - 1/(4*Kg)\n",
    "Kd = (lam/(2*wc**2*Kg) - Kp*Td)/Kp\n",
    "Ti = 2*Kp*Kg/lam\n"
   ]
  },
  {
   "cell_type": "code",
   "execution_count": 154,
   "metadata": {},
   "outputs": [
    {
     "name": "stdout",
     "output_type": "stream",
     "text": [
      "0 states have been removed from the model\n"
     ]
    },
    {
     "data": {
      "text/latex": [
       "$$\\frac{29.92 s^2 + 89.75 s + 747.9}{s^2 + 200 s}$$"
      ],
      "text/plain": [
       "TransferFunction(array([ 29.91772625,  89.75317876, 747.94315632]), array([  1., 200.,   0.]))"
      ]
     },
     "execution_count": 154,
     "metadata": {},
     "output_type": "execute_result"
    }
   ],
   "source": [
    "Cpid = Kp*(1 + 1/(s*Ti) + Kd*s/(1 + s*Td))\n",
    "Cpid = ctrl.minreal(Cpid)\n",
    "Cpid"
   ]
  },
  {
   "cell_type": "code",
   "execution_count": 155,
   "metadata": {},
   "outputs": [
    {
     "name": "stdout",
     "output_type": "stream",
     "text": [
      "6 states have been removed from the model\n"
     ]
    },
    {
     "data": {
      "image/png": "[encoded data removed]",
      "text/plain": [
       "<Figure size 432x288 with 2 Axes>"
      ]
     },
     "metadata": {
      "needs_background": "light"
     },
     "output_type": "display_data"
    },
    {
     "data": {
      "text/latex": [
       "$$\\frac{1 \\times 10^{4}}{s^2 + 200 s + 1 \\times 10^{4}}$$"
      ],
      "text/plain": [
       "TransferFunction(array([10000.]), array([1.e+00, 2.e+02, 1.e+04]))"
      ]
     },
     "execution_count": 155,
     "metadata": {},
     "output_type": "execute_result"
    }
   ],
   "source": [
    "CL3 = G*Cpid/(1 + G*Cpid)\n",
    "CL3 = ctrl.minreal(CL3)\n",
    "\n",
    "ctrl.bode(CL3,omega_limits =(1,5000),label='Closed loop',linewidth=8)\n",
    "ctrl.bode(M2,omega_limits =(1,5000),linestyle='--',color='k',label='Ref model')\n",
    "\n",
    "plt.legend()\n",
    "plt.show()\n",
    "CL3"
   ]
  }
 ],
 "metadata": {
  "kernelspec": {
   "display_name": "Python 3.10.4 64-bit",
   "language": "python",
   "name": "python3"
  },
  "language_info": {
   "codemirror_mode": {
    "name": "ipython",
    "version": 3
   },
   "file_extension": ".py",
   "mimetype": "text/x-python",
   "name": "python",
   "nbconvert_exporter": "python",
   "pygments_lexer": "ipython3",
   "version": "3.10.4"
  },
  "orig_nbformat": 4,
  "vscode": {
   "interpreter": {
    "hash": "6d9e0bcf621574d6c73d5a16c964e67365a8a1c126451fb5de37be47a707dab2"
   }
  }
 },
 "nbformat": 4,
 "nbformat_minor": 2
}
